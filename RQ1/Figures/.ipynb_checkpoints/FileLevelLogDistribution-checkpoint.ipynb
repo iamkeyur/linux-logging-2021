{
 "cells": [
  {
   "cell_type": "code",
   "execution_count": 12,
   "metadata": {},
   "outputs": [],
   "source": [
    "library(ggplot2)\n",
    "library(dplyr)\n",
    "library(ggplot2)\n",
    "library(tidyr)\n",
    "library(scales)\n",
    "set_plot_dimensions <- function(width_choice, height_choice) {\n",
    "    options(repr.plot.width=width_choice, repr.plot.height=height_choice)\n",
    "}"
   ]
  },
  {
   "cell_type": "code",
   "execution_count": 13,
   "metadata": {},
   "outputs": [],
   "source": [
    "df <- read.csv(file = 'RQ1/LogDistribution/Final_filtered', header = FALSE)\n",
    "df <- na.omit(df)"
   ]
  },
  {
   "cell_type": "code",
   "execution_count": 14,
   "metadata": {},
   "outputs": [
    {
     "data": {
      "text/html": [
       "<table>\n",
       "<caption>A data.frame: 6 × 4</caption>\n",
       "<thead>\n",
       "\t<tr><th></th><th scope=col>V1</th><th scope=col>V2</th><th scope=col>V3</th><th scope=col>density</th></tr>\n",
       "\t<tr><th></th><th scope=col>&lt;chr&gt;</th><th scope=col>&lt;int&gt;</th><th scope=col>&lt;int&gt;</th><th scope=col>&lt;dbl&gt;</th></tr>\n",
       "</thead>\n",
       "<tbody>\n",
       "\t<tr><th scope=row>1</th><td>/home/keyur/Desktop/LinuxWorkingGit/linux/drivers/input/misc/soc_button_array.c     </td><td> 7</td><td>295</td><td>0.02372881</td></tr>\n",
       "\t<tr><th scope=row>2</th><td>/home/keyur/Desktop/LinuxWorkingGit/linux/arch/csky/kernel/perf_callchain.c         </td><td> 1</td><td> 70</td><td>0.01428571</td></tr>\n",
       "\t<tr><th scope=row>3</th><td>/home/keyur/Desktop/LinuxWorkingGit/linux/arch/x86/kernel/e820.c                    </td><td>42</td><td>782</td><td>0.05370844</td></tr>\n",
       "\t<tr><th scope=row>4</th><td>/home/keyur/Desktop/LinuxWorkingGit/linux/fs/iomap/buffered-io.c                    </td><td>16</td><td>795</td><td>0.02012579</td></tr>\n",
       "\t<tr><th scope=row>5</th><td>/home/keyur/Desktop/LinuxWorkingGit/linux/drivers/dma/sh/usb-dmac.c                 </td><td>16</td><td>632</td><td>0.02531646</td></tr>\n",
       "\t<tr><th scope=row>6</th><td>/home/keyur/Desktop/LinuxWorkingGit/linux/drivers/pinctrl/meson/pinctrl-meson8-pmx.c</td><td> 2</td><td> 60</td><td>0.03333333</td></tr>\n",
       "</tbody>\n",
       "</table>\n"
      ],
      "text/latex": [
       "A data.frame: 6 × 4\n",
       "\\begin{tabular}{r|llll}\n",
       "  & V1 & V2 & V3 & density\\\\\n",
       "  & <chr> & <int> & <int> & <dbl>\\\\\n",
       "\\hline\n",
       "\t1 & /home/keyur/Desktop/LinuxWorkingGit/linux/drivers/input/misc/soc\\_button\\_array.c      &  7 & 295 & 0.02372881\\\\\n",
       "\t2 & /home/keyur/Desktop/LinuxWorkingGit/linux/arch/csky/kernel/perf\\_callchain.c          &  1 &  70 & 0.01428571\\\\\n",
       "\t3 & /home/keyur/Desktop/LinuxWorkingGit/linux/arch/x86/kernel/e820.c                     & 42 & 782 & 0.05370844\\\\\n",
       "\t4 & /home/keyur/Desktop/LinuxWorkingGit/linux/fs/iomap/buffered-io.c                     & 16 & 795 & 0.02012579\\\\\n",
       "\t5 & /home/keyur/Desktop/LinuxWorkingGit/linux/drivers/dma/sh/usb-dmac.c                  & 16 & 632 & 0.02531646\\\\\n",
       "\t6 & /home/keyur/Desktop/LinuxWorkingGit/linux/drivers/pinctrl/meson/pinctrl-meson8-pmx.c &  2 &  60 & 0.03333333\\\\\n",
       "\\end{tabular}\n"
      ],
      "text/markdown": [
       "\n",
       "A data.frame: 6 × 4\n",
       "\n",
       "| <!--/--> | V1 &lt;chr&gt; | V2 &lt;int&gt; | V3 &lt;int&gt; | density &lt;dbl&gt; |\n",
       "|---|---|---|---|---|\n",
       "| 1 | /home/keyur/Desktop/LinuxWorkingGit/linux/drivers/input/misc/soc_button_array.c      |  7 | 295 | 0.02372881 |\n",
       "| 2 | /home/keyur/Desktop/LinuxWorkingGit/linux/arch/csky/kernel/perf_callchain.c          |  1 |  70 | 0.01428571 |\n",
       "| 3 | /home/keyur/Desktop/LinuxWorkingGit/linux/arch/x86/kernel/e820.c                     | 42 | 782 | 0.05370844 |\n",
       "| 4 | /home/keyur/Desktop/LinuxWorkingGit/linux/fs/iomap/buffered-io.c                     | 16 | 795 | 0.02012579 |\n",
       "| 5 | /home/keyur/Desktop/LinuxWorkingGit/linux/drivers/dma/sh/usb-dmac.c                  | 16 | 632 | 0.02531646 |\n",
       "| 6 | /home/keyur/Desktop/LinuxWorkingGit/linux/drivers/pinctrl/meson/pinctrl-meson8-pmx.c |  2 |  60 | 0.03333333 |\n",
       "\n"
      ],
      "text/plain": [
       "  V1                                                                                  \n",
       "1 /home/keyur/Desktop/LinuxWorkingGit/linux/drivers/input/misc/soc_button_array.c     \n",
       "2 /home/keyur/Desktop/LinuxWorkingGit/linux/arch/csky/kernel/perf_callchain.c         \n",
       "3 /home/keyur/Desktop/LinuxWorkingGit/linux/arch/x86/kernel/e820.c                    \n",
       "4 /home/keyur/Desktop/LinuxWorkingGit/linux/fs/iomap/buffered-io.c                    \n",
       "5 /home/keyur/Desktop/LinuxWorkingGit/linux/drivers/dma/sh/usb-dmac.c                 \n",
       "6 /home/keyur/Desktop/LinuxWorkingGit/linux/drivers/pinctrl/meson/pinctrl-meson8-pmx.c\n",
       "  V2 V3  density   \n",
       "1  7 295 0.02372881\n",
       "2  1  70 0.01428571\n",
       "3 42 782 0.05370844\n",
       "4 16 795 0.02012579\n",
       "5 16 632 0.02531646\n",
       "6  2  60 0.03333333"
      ]
     },
     "metadata": {},
     "output_type": "display_data"
    },
    {
     "data": {
      "text/html": [
       "25815"
      ],
      "text/latex": [
       "25815"
      ],
      "text/markdown": [
       "25815"
      ],
      "text/plain": [
       "[1] 25815"
      ]
     },
     "metadata": {},
     "output_type": "display_data"
    }
   ],
   "source": [
    "df$density <- with(df, df$V2 / df$V3)"
   ]
  },
  {
   "cell_type": "code",
   "execution_count": 15,
   "metadata": {},
   "outputs": [
    {
     "data": {
      "text/html": [
       "<table>\n",
       "<caption>A data.frame: 6 × 4</caption>\n",
       "<thead>\n",
       "\t<tr><th></th><th scope=col>V1</th><th scope=col>V2</th><th scope=col>V3</th><th scope=col>density</th></tr>\n",
       "\t<tr><th></th><th scope=col>&lt;chr&gt;</th><th scope=col>&lt;int&gt;</th><th scope=col>&lt;int&gt;</th><th scope=col>&lt;dbl&gt;</th></tr>\n",
       "</thead>\n",
       "<tbody>\n",
       "\t<tr><th scope=row>1</th><td>/home/keyur/Desktop/LinuxWorkingGit/linux/drivers/input/misc/soc_button_array.c     </td><td> 7</td><td>295</td><td>0.02372881</td></tr>\n",
       "\t<tr><th scope=row>2</th><td>/home/keyur/Desktop/LinuxWorkingGit/linux/arch/csky/kernel/perf_callchain.c         </td><td> 1</td><td> 70</td><td>0.01428571</td></tr>\n",
       "\t<tr><th scope=row>3</th><td>/home/keyur/Desktop/LinuxWorkingGit/linux/arch/x86/kernel/e820.c                    </td><td>42</td><td>782</td><td>0.05370844</td></tr>\n",
       "\t<tr><th scope=row>4</th><td>/home/keyur/Desktop/LinuxWorkingGit/linux/fs/iomap/buffered-io.c                    </td><td>16</td><td>795</td><td>0.02012579</td></tr>\n",
       "\t<tr><th scope=row>5</th><td>/home/keyur/Desktop/LinuxWorkingGit/linux/drivers/dma/sh/usb-dmac.c                 </td><td>16</td><td>632</td><td>0.02531646</td></tr>\n",
       "\t<tr><th scope=row>6</th><td>/home/keyur/Desktop/LinuxWorkingGit/linux/drivers/pinctrl/meson/pinctrl-meson8-pmx.c</td><td> 2</td><td> 60</td><td>0.03333333</td></tr>\n",
       "</tbody>\n",
       "</table>\n"
      ],
      "text/latex": [
       "A data.frame: 6 × 4\n",
       "\\begin{tabular}{r|llll}\n",
       "  & V1 & V2 & V3 & density\\\\\n",
       "  & <chr> & <int> & <int> & <dbl>\\\\\n",
       "\\hline\n",
       "\t1 & /home/keyur/Desktop/LinuxWorkingGit/linux/drivers/input/misc/soc\\_button\\_array.c      &  7 & 295 & 0.02372881\\\\\n",
       "\t2 & /home/keyur/Desktop/LinuxWorkingGit/linux/arch/csky/kernel/perf\\_callchain.c          &  1 &  70 & 0.01428571\\\\\n",
       "\t3 & /home/keyur/Desktop/LinuxWorkingGit/linux/arch/x86/kernel/e820.c                     & 42 & 782 & 0.05370844\\\\\n",
       "\t4 & /home/keyur/Desktop/LinuxWorkingGit/linux/fs/iomap/buffered-io.c                     & 16 & 795 & 0.02012579\\\\\n",
       "\t5 & /home/keyur/Desktop/LinuxWorkingGit/linux/drivers/dma/sh/usb-dmac.c                  & 16 & 632 & 0.02531646\\\\\n",
       "\t6 & /home/keyur/Desktop/LinuxWorkingGit/linux/drivers/pinctrl/meson/pinctrl-meson8-pmx.c &  2 &  60 & 0.03333333\\\\\n",
       "\\end{tabular}\n"
      ],
      "text/markdown": [
       "\n",
       "A data.frame: 6 × 4\n",
       "\n",
       "| <!--/--> | V1 &lt;chr&gt; | V2 &lt;int&gt; | V3 &lt;int&gt; | density &lt;dbl&gt; |\n",
       "|---|---|---|---|---|\n",
       "| 1 | /home/keyur/Desktop/LinuxWorkingGit/linux/drivers/input/misc/soc_button_array.c      |  7 | 295 | 0.02372881 |\n",
       "| 2 | /home/keyur/Desktop/LinuxWorkingGit/linux/arch/csky/kernel/perf_callchain.c          |  1 |  70 | 0.01428571 |\n",
       "| 3 | /home/keyur/Desktop/LinuxWorkingGit/linux/arch/x86/kernel/e820.c                     | 42 | 782 | 0.05370844 |\n",
       "| 4 | /home/keyur/Desktop/LinuxWorkingGit/linux/fs/iomap/buffered-io.c                     | 16 | 795 | 0.02012579 |\n",
       "| 5 | /home/keyur/Desktop/LinuxWorkingGit/linux/drivers/dma/sh/usb-dmac.c                  | 16 | 632 | 0.02531646 |\n",
       "| 6 | /home/keyur/Desktop/LinuxWorkingGit/linux/drivers/pinctrl/meson/pinctrl-meson8-pmx.c |  2 |  60 | 0.03333333 |\n",
       "\n"
      ],
      "text/plain": [
       "  V1                                                                                  \n",
       "1 /home/keyur/Desktop/LinuxWorkingGit/linux/drivers/input/misc/soc_button_array.c     \n",
       "2 /home/keyur/Desktop/LinuxWorkingGit/linux/arch/csky/kernel/perf_callchain.c         \n",
       "3 /home/keyur/Desktop/LinuxWorkingGit/linux/arch/x86/kernel/e820.c                    \n",
       "4 /home/keyur/Desktop/LinuxWorkingGit/linux/fs/iomap/buffered-io.c                    \n",
       "5 /home/keyur/Desktop/LinuxWorkingGit/linux/drivers/dma/sh/usb-dmac.c                 \n",
       "6 /home/keyur/Desktop/LinuxWorkingGit/linux/drivers/pinctrl/meson/pinctrl-meson8-pmx.c\n",
       "  V2 V3  density   \n",
       "1  7 295 0.02372881\n",
       "2  1  70 0.01428571\n",
       "3 42 782 0.05370844\n",
       "4 16 795 0.02012579\n",
       "5 16 632 0.02531646\n",
       "6  2  60 0.03333333"
      ]
     },
     "metadata": {},
     "output_type": "display_data"
    },
    {
     "name": "stderr",
     "output_type": "stream",
     "text": [
      "Warning message in cor.test.default(df$V2, df$V3, method = c(\"spearman\")):\n",
      "“Cannot compute exact p-value with ties”\n"
     ]
    },
    {
     "data": {
      "text/plain": [
       "\n",
       "\tSpearman's rank correlation rho\n",
       "\n",
       "data:  df$V2 and df$V3\n",
       "S = 9.2298e+11, p-value < 2.2e-16\n",
       "alternative hypothesis: true rho is not equal to 0\n",
       "sample estimates:\n",
       "      rho \n",
       "0.6780962 \n"
      ]
     },
     "metadata": {},
     "output_type": "display_data"
    },
    {
     "name": "stderr",
     "output_type": "stream",
     "text": [
      "Warning message in cor.test.default(df$V3, df$density, method = c(\"spearman\")):\n",
      "“Cannot compute exact p-value with ties”\n"
     ]
    },
    {
     "data": {
      "text/plain": [
       "\n",
       "\tSpearman's rank correlation rho\n",
       "\n",
       "data:  df$V3 and df$density\n",
       "S = 1.9374e+12, p-value < 2.2e-16\n",
       "alternative hypothesis: true rho is not equal to 0\n",
       "sample estimates:\n",
       "     rho \n",
       "0.324222 \n"
      ]
     },
     "metadata": {},
     "output_type": "display_data"
    }
   ],
   "source": [
    "head(df)\n",
    "cor.test(df$V2, df$V3, method=c(\"spearman\"))\n",
    "cor.test(df$V3, df$density, method=c(\"spearman\"))"
   ]
  },
  {
   "cell_type": "code",
   "execution_count": 56,
   "metadata": {},
   "outputs": [
    {
     "data": {
      "text/html": [
       "25814"
      ],
      "text/latex": [
       "25814"
      ],
      "text/markdown": [
       "25814"
      ],
      "text/plain": [
       "[1] 25814"
      ]
     },
     "metadata": {},
     "output_type": "display_data"
    },
    {
     "data": {
      "text/html": [
       "18680"
      ],
      "text/latex": [
       "18680"
      ],
      "text/markdown": [
       "18680"
      ],
      "text/plain": [
       "[1] 18680"
      ]
     },
     "metadata": {},
     "output_type": "display_data"
    },
    {
     "data": {
      "text/html": [
       "<strong>png:</strong> 2"
      ],
      "text/latex": [
       "\\textbf{png:} 2"
      ],
      "text/markdown": [
       "**png:** 2"
      ],
      "text/plain": [
       "png \n",
       "  2 "
      ]
     },
     "metadata": {},
     "output_type": "display_data"
    }
   ],
   "source": [
    "df <- na.omit(df)\n",
    "nrow(df)\n",
    "df_gt_0 <- df[df$density > 0,]\n",
    "# MyData[(MyData[,2]>40),]\n",
    "nrow(df_gt_0)\n",
    "d <- density(df_gt_0$density)\n",
    "svg(\"DensityGraph.svg\",width=7,height=7)\n",
    "plot(d, main = \"Density of logging statement use per SLOC in a file\")\n",
    "dev.off()"
   ]
  },
  {
   "cell_type": "code",
   "execution_count": 54,
   "metadata": {},
   "outputs": [
    {
     "data": {
      "text/html": [
       "<strong>png:</strong> 2"
      ],
      "text/latex": [
       "\\textbf{png:} 2"
      ],
      "text/markdown": [
       "**png:** 2"
      ],
      "text/plain": [
       "png \n",
       "  2 "
      ]
     },
     "metadata": {},
     "output_type": "display_data"
    }
   ],
   "source": [
    "set_plot_dimensions(7,7)\n",
    "svg(\"Hist.svg\",width=8,height=8)\n",
    "# main = \"Value of log ratio in a file\", \n",
    "h <- hist(df_gt_0$density, main = '', xlab = \"Log ratio\", ylab = \"# of files\", breaks = c(0,0.02,0.04,0.06,0.08,0.1,0.12,0.14,0.16,0.18,0.2,0.22,0.24,0.26,0.28,0.3,0.32,0.34,0.36,0.38,0.4,0.42,0.44,0.46,0.48,0.5,0.52,0.54,0.56,0.58,0.6,0.62,0.64,0.66,0.68,0.7,0.72,0.74,0.76,0.78,0.8,0.82,0.84,0.86,0.88268156424581))\n",
    "dev.off()\n"
   ]
  },
  {
   "cell_type": "code",
   "execution_count": 35,
   "metadata": {},
   "outputs": [
    {
     "data": {
      "text/html": [
       "<style>\n",
       ".list-inline {list-style: none; margin:0; padding: 0}\n",
       ".list-inline>li {display: inline-block}\n",
       ".list-inline>li:not(:last-child)::after {content: \"\\00b7\"; padding: 0 .5ex}\n",
       "</style>\n",
       "<ol class=list-inline><li>0</li><li>0.02</li><li>0.04</li><li>0.06</li><li>0.08</li><li>0.1</li><li>0.12</li><li>0.14</li><li>0.16</li><li>0.18</li><li>0.2</li><li>0.22</li><li>0.24</li><li>0.26</li><li>0.28</li><li>0.3</li><li>0.32</li><li>0.34</li><li>0.36</li><li>0.38</li><li>0.4</li><li>0.42</li><li>0.44</li><li>0.46</li><li>0.48</li><li>0.5</li><li>0.52</li><li>0.54</li><li>0.56</li><li>0.58</li><li>0.6</li><li>0.62</li><li>0.64</li><li>0.66</li><li>0.68</li><li>0.7</li><li>0.72</li><li>0.74</li><li>0.76</li><li>0.78</li><li>0.8</li><li>0.82</li><li>0.84</li><li>0.86</li><li>0.88</li></ol>\n"
      ],
      "text/latex": [
       "\\begin{enumerate*}\n",
       "\\item 0\n",
       "\\item 0.02\n",
       "\\item 0.04\n",
       "\\item 0.06\n",
       "\\item 0.08\n",
       "\\item 0.1\n",
       "\\item 0.12\n",
       "\\item 0.14\n",
       "\\item 0.16\n",
       "\\item 0.18\n",
       "\\item 0.2\n",
       "\\item 0.22\n",
       "\\item 0.24\n",
       "\\item 0.26\n",
       "\\item 0.28\n",
       "\\item 0.3\n",
       "\\item 0.32\n",
       "\\item 0.34\n",
       "\\item 0.36\n",
       "\\item 0.38\n",
       "\\item 0.4\n",
       "\\item 0.42\n",
       "\\item 0.44\n",
       "\\item 0.46\n",
       "\\item 0.48\n",
       "\\item 0.5\n",
       "\\item 0.52\n",
       "\\item 0.54\n",
       "\\item 0.56\n",
       "\\item 0.58\n",
       "\\item 0.6\n",
       "\\item 0.62\n",
       "\\item 0.64\n",
       "\\item 0.66\n",
       "\\item 0.68\n",
       "\\item 0.7\n",
       "\\item 0.72\n",
       "\\item 0.74\n",
       "\\item 0.76\n",
       "\\item 0.78\n",
       "\\item 0.8\n",
       "\\item 0.82\n",
       "\\item 0.84\n",
       "\\item 0.86\n",
       "\\item 0.88\n",
       "\\end{enumerate*}\n"
      ],
      "text/markdown": [
       "1. 0\n",
       "2. 0.02\n",
       "3. 0.04\n",
       "4. 0.06\n",
       "5. 0.08\n",
       "6. 0.1\n",
       "7. 0.12\n",
       "8. 0.14\n",
       "9. 0.16\n",
       "10. 0.18\n",
       "11. 0.2\n",
       "12. 0.22\n",
       "13. 0.24\n",
       "14. 0.26\n",
       "15. 0.28\n",
       "16. 0.3\n",
       "17. 0.32\n",
       "18. 0.34\n",
       "19. 0.36\n",
       "20. 0.38\n",
       "21. 0.4\n",
       "22. 0.42\n",
       "23. 0.44\n",
       "24. 0.46\n",
       "25. 0.48\n",
       "26. 0.5\n",
       "27. 0.52\n",
       "28. 0.54\n",
       "29. 0.56\n",
       "30. 0.58\n",
       "31. 0.6\n",
       "32. 0.62\n",
       "33. 0.64\n",
       "34. 0.66\n",
       "35. 0.68\n",
       "36. 0.7\n",
       "37. 0.72\n",
       "38. 0.74\n",
       "39. 0.76\n",
       "40. 0.78\n",
       "41. 0.8\n",
       "42. 0.82\n",
       "43. 0.84\n",
       "44. 0.86\n",
       "45. 0.88\n",
       "\n",
       "\n"
      ],
      "text/plain": [
       " [1] 0.00 0.02 0.04 0.06 0.08 0.10 0.12 0.14 0.16 0.18 0.20 0.22 0.24 0.26 0.28\n",
       "[16] 0.30 0.32 0.34 0.36 0.38 0.40 0.42 0.44 0.46 0.48 0.50 0.52 0.54 0.56 0.58\n",
       "[31] 0.60 0.62 0.64 0.66 0.68 0.70 0.72 0.74 0.76 0.78 0.80 0.82 0.84 0.86 0.88"
      ]
     },
     "metadata": {},
     "output_type": "display_data"
    }
   ],
   "source": [
    "seq(0, 0.88268156424581, by=0.02)"
   ]
  },
  {
   "cell_type": "code",
   "execution_count": 52,
   "metadata": {},
   "outputs": [
    {
     "data": {
      "text/html": [
       "7.60600874691006e-05"
      ],
      "text/latex": [
       "7.60600874691006e-05"
      ],
      "text/markdown": [
       "7.60600874691006e-05"
      ],
      "text/plain": [
       "[1] 7.606009e-05"
      ]
     },
     "metadata": {},
     "output_type": "display_data"
    }
   ],
   "source": [
    "min(df_gt_0$density)"
   ]
  },
  {
   "cell_type": "code",
   "execution_count": 57,
   "metadata": {},
   "outputs": [
    {
     "data": {
      "text/html": [
       "6086"
      ],
      "text/latex": [
       "6086"
      ],
      "text/markdown": [
       "6086"
      ],
      "text/plain": [
       "[1] 6086"
      ]
     },
     "metadata": {},
     "output_type": "display_data"
    }
   ],
   "source": [
    "nrow(df_gt_0[df_gt_0$density > 0 & df_gt_0$density <= 0.02,])"
   ]
  },
  {
   "cell_type": "code",
   "execution_count": 5,
   "metadata": {},
   "outputs": [
    {
     "data": {
      "text/plain": [
       "      V1                  V2                V3             density       \n",
       " Length:25814       Min.   :   0.00   Min.   :    1.0   Min.   :0.00000  \n",
       " Class :character   1st Qu.:   0.00   1st Qu.:  117.0   1st Qu.:0.00000  \n",
       " Mode  :character   Median :   5.00   Median :  263.0   Median :0.01905  \n",
       "                    Mean   :  19.17   Mean   :  517.8   Mean   :0.03136  \n",
       "                    3rd Qu.:  18.00   3rd Qu.:  595.0   3rd Qu.:0.04545  \n",
       "                    Max.   :1359.00   Max.   :26295.0   Max.   :0.88268  "
      ]
     },
     "metadata": {},
     "output_type": "display_data"
    },
    {
     "name": "stdout",
     "output_type": "stream",
     "text": [
      "Log density in range [0,0.1] -> 94.33641 \n",
      "File with 0 logging statement -> 7134 \n",
      "File with 0 logging statement -> 27.63617 \n",
      "File with >=1 logging statement -> 72.36383 \n",
      "Log density in range (0,0.1] -> 66.70024 \n",
      "Log density in > 0.1 -> 5.663593 \n"
     ]
    }
   ],
   "source": [
    "summary(df)\n",
    "cat(\"Log density in range [0,0.1] ->\", nrow(df[df$density >= 0 & df$density <= 0.1,])/nrow(df)*100, \"\\n\")\n",
    "\n",
    "cat(\"File with 0 logging statement ->\", nrow(df[df$V2 == 0,]), \"\\n\")\n",
    "cat(\"File with 0 logging statement ->\", nrow(df[df$V2 == 0,])/nrow(df)*100, \"\\n\")\n",
    "\n",
    "cat(\"File with >=1 logging statement ->\", nrow(df[df$V2 >= 1,])/nrow(df)*100, \"\\n\")\n",
    "\n",
    "cat(\"Log density in range (0,0.1] ->\", nrow(df[df$density > 0 & df$density <= 0.1,])/nrow(df)*100, \"\\n\")\n",
    "cat(\"Log density in > 0.1 ->\", nrow(df[df$density > 0.1,])/nrow(df)*100, \"\\n\")"
   ]
  },
  {
   "cell_type": "code",
   "execution_count": 5,
   "metadata": {},
   "outputs": [
    {
     "data": {
      "text/html": [
       "<style>\n",
       ".list-inline {list-style: none; margin:0; padding: 0}\n",
       ".list-inline>li {display: inline-block}\n",
       ".list-inline>li:not(:last-child)::after {content: \"\\00b7\"; padding: 0 .5ex}\n",
       "</style>\n",
       "<ol class=list-inline><li><span style=white-space:pre-wrap>'/home/keyur/Desktop/LinuxWorkingGit/linux/arch/x86/um/sysrq_32.c                                     '</span></li><li><span style=white-space:pre-wrap>'/home/keyur/Desktop/LinuxWorkingGit/linux/drivers/staging/rtl8723bs/hal/HalPhyRf.c                   '</span></li><li><span style=white-space:pre-wrap>'/home/keyur/Desktop/LinuxWorkingGit/linux/drivers/staging/rtl8723bs/hal/odm_PathDiv.c                '</span></li><li><span style=white-space:pre-wrap>'/home/keyur/Desktop/LinuxWorkingGit/linux/drivers/gpu/drm/amd/display/dc/core/dc_debug.c             '</span></li><li>'/home/keyur/Desktop/LinuxWorkingGit/linux/drivers/gpu/drm/amd/display/dc/dml/display_rq_dlg_helpers.c'</li><li><span style=white-space:pre-wrap>'/home/keyur/Desktop/LinuxWorkingGit/linux/drivers/iommu/iommu-debugfs.c                              '</span></li><li><span style=white-space:pre-wrap>'/home/keyur/Desktop/LinuxWorkingGit/linux/arch/hexagon/kernel/vm_events.c                            '</span></li><li><span style=white-space:pre-wrap>'/home/keyur/Desktop/LinuxWorkingGit/linux/drivers/gpu/drm/selftests/test-drm_format.c                '</span></li><li><span style=white-space:pre-wrap>'/home/keyur/Desktop/LinuxWorkingGit/linux/drivers/scsi/qla4xxx/ql4_dbg.c                             '</span></li><li><span style=white-space:pre-wrap>'/home/keyur/Desktop/LinuxWorkingGit/linux/arch/x86/um/sysrq_64.c                                     '</span></li><li><span style=white-space:pre-wrap>'/home/keyur/Desktop/LinuxWorkingGit/linux/drivers/gpu/drm/selftests/test-drm_cmdline_parser.c        '</span></li><li><span style=white-space:pre-wrap>'NA                                                                                                   '</span></li></ol>\n"
      ],
      "text/latex": [
       "\\begin{enumerate*}\n",
       "\\item '/home/keyur/Desktop/LinuxWorkingGit/linux/arch/x86/um/sysrq\\_32.c                                     '\n",
       "\\item '/home/keyur/Desktop/LinuxWorkingGit/linux/drivers/staging/rtl8723bs/hal/HalPhyRf.c                   '\n",
       "\\item '/home/keyur/Desktop/LinuxWorkingGit/linux/drivers/staging/rtl8723bs/hal/odm\\_PathDiv.c                '\n",
       "\\item '/home/keyur/Desktop/LinuxWorkingGit/linux/drivers/gpu/drm/amd/display/dc/core/dc\\_debug.c             '\n",
       "\\item '/home/keyur/Desktop/LinuxWorkingGit/linux/drivers/gpu/drm/amd/display/dc/dml/display\\_rq\\_dlg\\_helpers.c'\n",
       "\\item '/home/keyur/Desktop/LinuxWorkingGit/linux/drivers/iommu/iommu-debugfs.c                              '\n",
       "\\item '/home/keyur/Desktop/LinuxWorkingGit/linux/arch/hexagon/kernel/vm\\_events.c                            '\n",
       "\\item '/home/keyur/Desktop/LinuxWorkingGit/linux/drivers/gpu/drm/selftests/test-drm\\_format.c                '\n",
       "\\item '/home/keyur/Desktop/LinuxWorkingGit/linux/drivers/scsi/qla4xxx/ql4\\_dbg.c                             '\n",
       "\\item '/home/keyur/Desktop/LinuxWorkingGit/linux/arch/x86/um/sysrq\\_64.c                                     '\n",
       "\\item '/home/keyur/Desktop/LinuxWorkingGit/linux/drivers/gpu/drm/selftests/test-drm\\_cmdline\\_parser.c        '\n",
       "\\item 'NA                                                                                                   '\n",
       "\\end{enumerate*}\n"
      ],
      "text/markdown": [
       "1. <span style=white-space:pre-wrap>'/home/keyur/Desktop/LinuxWorkingGit/linux/arch/x86/um/sysrq_32.c                                     '</span>\n",
       "2. <span style=white-space:pre-wrap>'/home/keyur/Desktop/LinuxWorkingGit/linux/drivers/staging/rtl8723bs/hal/HalPhyRf.c                   '</span>\n",
       "3. <span style=white-space:pre-wrap>'/home/keyur/Desktop/LinuxWorkingGit/linux/drivers/staging/rtl8723bs/hal/odm_PathDiv.c                '</span>\n",
       "4. <span style=white-space:pre-wrap>'/home/keyur/Desktop/LinuxWorkingGit/linux/drivers/gpu/drm/amd/display/dc/core/dc_debug.c             '</span>\n",
       "5. '/home/keyur/Desktop/LinuxWorkingGit/linux/drivers/gpu/drm/amd/display/dc/dml/display_rq_dlg_helpers.c'\n",
       "6. <span style=white-space:pre-wrap>'/home/keyur/Desktop/LinuxWorkingGit/linux/drivers/iommu/iommu-debugfs.c                              '</span>\n",
       "7. <span style=white-space:pre-wrap>'/home/keyur/Desktop/LinuxWorkingGit/linux/arch/hexagon/kernel/vm_events.c                            '</span>\n",
       "8. <span style=white-space:pre-wrap>'/home/keyur/Desktop/LinuxWorkingGit/linux/drivers/gpu/drm/selftests/test-drm_format.c                '</span>\n",
       "9. <span style=white-space:pre-wrap>'/home/keyur/Desktop/LinuxWorkingGit/linux/drivers/scsi/qla4xxx/ql4_dbg.c                             '</span>\n",
       "10. <span style=white-space:pre-wrap>'/home/keyur/Desktop/LinuxWorkingGit/linux/arch/x86/um/sysrq_64.c                                     '</span>\n",
       "11. <span style=white-space:pre-wrap>'/home/keyur/Desktop/LinuxWorkingGit/linux/drivers/gpu/drm/selftests/test-drm_cmdline_parser.c        '</span>\n",
       "12. <span style=white-space:pre-wrap>'NA                                                                                                   '</span>\n",
       "\n",
       "\n"
      ],
      "text/plain": [
       " [1] \"/home/keyur/Desktop/LinuxWorkingGit/linux/arch/x86/um/sysrq_32.c                                     \"\n",
       " [2] \"/home/keyur/Desktop/LinuxWorkingGit/linux/drivers/staging/rtl8723bs/hal/HalPhyRf.c                   \"\n",
       " [3] \"/home/keyur/Desktop/LinuxWorkingGit/linux/drivers/staging/rtl8723bs/hal/odm_PathDiv.c                \"\n",
       " [4] \"/home/keyur/Desktop/LinuxWorkingGit/linux/drivers/gpu/drm/amd/display/dc/core/dc_debug.c             \"\n",
       " [5] \"/home/keyur/Desktop/LinuxWorkingGit/linux/drivers/gpu/drm/amd/display/dc/dml/display_rq_dlg_helpers.c\"\n",
       " [6] \"/home/keyur/Desktop/LinuxWorkingGit/linux/drivers/iommu/iommu-debugfs.c                              \"\n",
       " [7] \"/home/keyur/Desktop/LinuxWorkingGit/linux/arch/hexagon/kernel/vm_events.c                            \"\n",
       " [8] \"/home/keyur/Desktop/LinuxWorkingGit/linux/drivers/gpu/drm/selftests/test-drm_format.c                \"\n",
       " [9] \"/home/keyur/Desktop/LinuxWorkingGit/linux/drivers/scsi/qla4xxx/ql4_dbg.c                             \"\n",
       "[10] \"/home/keyur/Desktop/LinuxWorkingGit/linux/arch/x86/um/sysrq_64.c                                     \"\n",
       "[11] \"/home/keyur/Desktop/LinuxWorkingGit/linux/drivers/gpu/drm/selftests/test-drm_cmdline_parser.c        \"\n",
       "[12] \"NA                                                                                                   \""
      ]
     },
     "metadata": {},
     "output_type": "display_data"
    }
   ],
   "source": [
    "format(df[df$density >0.5,]$V1)"
   ]
  },
  {
   "cell_type": "code",
   "execution_count": 6,
   "metadata": {},
   "outputs": [],
   "source": [
    "#     477 do-while\n",
    "#   13360 else\n",
    "#    4906 else-if\n",
    "#    6066 for\n",
    "#  176463 if\n",
    "#   95864 method\n",
    "#   18883 switch\n",
    "#    2147 while\n",
    "# count <- c(477, 13360, 4906, 6066, 176463, 95864, 18883, 2147);\n",
    "# type <- c(\"do-while\", \"else\", \"else-if\", \"for\", \"if\", \"method\", \"switch\", \"while\");\n",
    "# df_block <- data.frame(c = count, t = type);\n",
    "\n",
    "df_block <- read.csv(file = '/home/keyur/Desktop/KernelHeuristic/FinalFolder/RQ1/LogInBlock/out_filtered', header = FALSE, sep = \"|\")"
   ]
  },
  {
   "cell_type": "code",
   "execution_count": 7,
   "metadata": {},
   "outputs": [
    {
     "data": {
      "text/html": [
       "302799"
      ],
      "text/latex": [
       "302799"
      ],
      "text/markdown": [
       "302799"
      ],
      "text/plain": [
       "[1] 302799"
      ]
     },
     "metadata": {},
     "output_type": "display_data"
    },
    {
     "data": {
      "text/html": [
       "<table>\n",
       "<caption>A tibble: 8 × 3</caption>\n",
       "<thead>\n",
       "\t<tr><th scope=col>V1</th><th scope=col>count</th><th scope=col>perc</th></tr>\n",
       "\t<tr><th scope=col>&lt;chr&gt;</th><th scope=col>&lt;int&gt;</th><th scope=col>&lt;dbl&gt;</th></tr>\n",
       "</thead>\n",
       "<tbody>\n",
       "\t<tr><td>do-while</td><td>   454</td><td> 0.15</td></tr>\n",
       "\t<tr><td>else    </td><td> 12586</td><td> 4.16</td></tr>\n",
       "\t<tr><td>else-if </td><td>  4585</td><td> 1.51</td></tr>\n",
       "\t<tr><td>for     </td><td>  5283</td><td> 1.74</td></tr>\n",
       "\t<tr><td>if      </td><td>168539</td><td>55.66</td></tr>\n",
       "\t<tr><td>method  </td><td> 91140</td><td>30.10</td></tr>\n",
       "\t<tr><td>switch  </td><td> 18315</td><td> 6.05</td></tr>\n",
       "\t<tr><td>while   </td><td>  1897</td><td> 0.63</td></tr>\n",
       "</tbody>\n",
       "</table>\n"
      ],
      "text/latex": [
       "A tibble: 8 × 3\n",
       "\\begin{tabular}{lll}\n",
       " V1 & count & perc\\\\\n",
       " <chr> & <int> & <dbl>\\\\\n",
       "\\hline\n",
       "\t do-while &    454 &  0.15\\\\\n",
       "\t else     &  12586 &  4.16\\\\\n",
       "\t else-if  &   4585 &  1.51\\\\\n",
       "\t for      &   5283 &  1.74\\\\\n",
       "\t if       & 168539 & 55.66\\\\\n",
       "\t method   &  91140 & 30.10\\\\\n",
       "\t switch   &  18315 &  6.05\\\\\n",
       "\t while    &   1897 &  0.63\\\\\n",
       "\\end{tabular}\n"
      ],
      "text/markdown": [
       "\n",
       "A tibble: 8 × 3\n",
       "\n",
       "| V1 &lt;chr&gt; | count &lt;int&gt; | perc &lt;dbl&gt; |\n",
       "|---|---|---|\n",
       "| do-while |    454 |  0.15 |\n",
       "| else     |  12586 |  4.16 |\n",
       "| else-if  |   4585 |  1.51 |\n",
       "| for      |   5283 |  1.74 |\n",
       "| if       | 168539 | 55.66 |\n",
       "| method   |  91140 | 30.10 |\n",
       "| switch   |  18315 |  6.05 |\n",
       "| while    |   1897 |  0.63 |\n",
       "\n"
      ],
      "text/plain": [
       "  V1       count  perc \n",
       "1 do-while    454  0.15\n",
       "2 else      12586  4.16\n",
       "3 else-if    4585  1.51\n",
       "4 for        5283  1.74\n",
       "5 if       168539 55.66\n",
       "6 method    91140 30.10\n",
       "7 switch    18315  6.05\n",
       "8 while      1897  0.63"
      ]
     },
     "metadata": {},
     "output_type": "display_data"
    }
   ],
   "source": [
    "# head(df_block)\n",
    "nrow(df_block)\n",
    "d2 <- df_block %>% \n",
    "  group_by(V1) %>% \n",
    "  summarise(count=n()) %>% \n",
    "  mutate(perc=round((count/sum(count))*100, 2))\n",
    "d2"
   ]
  },
  {
   "cell_type": "code",
   "execution_count": 29,
   "metadata": {},
   "outputs": [
    {
     "data": {
      "text/html": [
       "<strong>png:</strong> 2"
      ],
      "text/latex": [
       "\\textbf{png:} 2"
      ],
      "text/markdown": [
       "**png:** 2"
      ],
      "text/plain": [
       "png \n",
       "  2 "
      ]
     },
     "metadata": {},
     "output_type": "display_data"
    }
   ],
   "source": [
    "svg(\"BlockDistribution.svg\",width=6,height=6)\n",
    "ggplot(d2, aes(x = V1, y = perc)) +\n",
    "  geom_bar(stat=\"identity\", width = 0.7) +\n",
    "  labs(x = \"Block type\", y = \"Percentage\") +\n",
    "  geom_text(aes(label= count), vjust=-0.5) +\n",
    "  scale_y_continuous(breaks = scales::pretty_breaks(n = 30))\n",
    "dev.off()"
   ]
  },
  {
   "cell_type": "code",
   "execution_count": 44,
   "metadata": {},
   "outputs": [
    {
     "data": {
      "text/html": [
       "<style>\n",
       ".list-inline {list-style: none; margin:0; padding: 0}\n",
       ".list-inline>li {display: inline-block}\n",
       ".list-inline>li:not(:last-child)::after {content: \"\\00b7\"; padding: 0 .5ex}\n",
       "</style>\n",
       "<ol class=list-inline><li>'do-while'</li><li>'else'</li><li>'else-if'</li><li>'for'</li><li>'if'</li><li>'method'</li><li>'switch'</li><li>'while'</li></ol>\n"
      ],
      "text/latex": [
       "\\begin{enumerate*}\n",
       "\\item 'do-while'\n",
       "\\item 'else'\n",
       "\\item 'else-if'\n",
       "\\item 'for'\n",
       "\\item 'if'\n",
       "\\item 'method'\n",
       "\\item 'switch'\n",
       "\\item 'while'\n",
       "\\end{enumerate*}\n"
      ],
      "text/markdown": [
       "1. 'do-while'\n",
       "2. 'else'\n",
       "3. 'else-if'\n",
       "4. 'for'\n",
       "5. 'if'\n",
       "6. 'method'\n",
       "7. 'switch'\n",
       "8. 'while'\n",
       "\n",
       "\n"
      ],
      "text/plain": [
       "[1] \"do-while\" \"else\"     \"else-if\"  \"for\"      \"if\"       \"method\"   \"switch\"  \n",
       "[8] \"while\"   "
      ]
     },
     "metadata": {},
     "output_type": "display_data"
    },
    {
     "data": {
      "text/html": [
       "<strong>png:</strong> 2"
      ],
      "text/latex": [
       "\\textbf{png:} 2"
      ],
      "text/markdown": [
       "**png:** 2"
      ],
      "text/plain": [
       "png \n",
       "  2 "
      ]
     },
     "metadata": {},
     "output_type": "display_data"
    }
   ],
   "source": [
    "svg(\"BlockDistribution2.svg\",width=6,height=6)\n",
    "ylim <- c(0, 1.1*max(d2$perc))\n",
    "xx <- barplot(d2$perc, xaxt = 'n', xlab = '', ylim = ylim, ylab = \"Percentage\")\n",
    "text(x = xx, y = d2$perc, label = paste0(d2$count,\"\\n\", \"(\", d2$perc, \"%)\"), pos = 3, cex = 0.8, col = \"black\")\n",
    "labs <- paste(d2$V1)\n",
    "labs\n",
    "text(cex=1, x=xx, y=-4.5, labs, xpd=TRUE, srt=45)\n",
    "# axis(1, at=xx, labels=d2$V1, tick=FALSE, las=2, line=-0.5, cex.axis=1)\n",
    "dev.off()"
   ]
  },
  {
   "cell_type": "code",
   "execution_count": 38,
   "metadata": {},
   "outputs": [
    {
     "data": {
      "text/html": [
       "<style>\n",
       ".list-inline {list-style: none; margin:0; padding: 0}\n",
       ".list-inline>li {display: inline-block}\n",
       ".list-inline>li:not(:last-child)::after {content: \"\\00b7\"; padding: 0 .5ex}\n",
       "</style>\n",
       "<ol class=list-inline><li>'do-while'</li><li>'else'</li><li>'else-if'</li><li>'for'</li><li>'if'</li><li>'method'</li><li>'switch'</li><li>'while'</li></ol>\n"
      ],
      "text/latex": [
       "\\begin{enumerate*}\n",
       "\\item 'do-while'\n",
       "\\item 'else'\n",
       "\\item 'else-if'\n",
       "\\item 'for'\n",
       "\\item 'if'\n",
       "\\item 'method'\n",
       "\\item 'switch'\n",
       "\\item 'while'\n",
       "\\end{enumerate*}\n"
      ],
      "text/markdown": [
       "1. 'do-while'\n",
       "2. 'else'\n",
       "3. 'else-if'\n",
       "4. 'for'\n",
       "5. 'if'\n",
       "6. 'method'\n",
       "7. 'switch'\n",
       "8. 'while'\n",
       "\n",
       "\n"
      ],
      "text/plain": [
       "[1] \"do-while\" \"else\"     \"else-if\"  \"for\"      \"if\"       \"method\"   \"switch\"  \n",
       "[8] \"while\"   "
      ]
     },
     "metadata": {},
     "output_type": "display_data"
    },
    {
     "data": {
      "image/png": "[encoded data removed]",
      "text/plain": [
       "plot without title"
      ]
     },
     "metadata": {
      "image/png": {
       "height": 420,
       "width": 420
      },
      "text/plain": {
       "height": 420,
       "width": 420
      }
     },
     "output_type": "display_data"
    }
   ],
   "source": [
    "ylim <- c(0, 1.1*max(d2$perc))\n",
    "xx <- barplot(d2$perc, xaxt = 'n', xlab = '', ylim = ylim, ylab = \"Percentage\")\n",
    "text(x = xx, y = d2$perc, label = paste0(d2$count,\"\\n\", \"(\", d2$perc, \"%)\"), pos = 3, cex = 0.8, col = \"black\")\n",
    "labs <- paste(d2$V1)\n",
    "labs\n",
    "text(cex=1, x=xx-0.25, y=-4, labs, xpd=TRUE, srt=45)\n",
    "# axis(1, at=xx, labels=d2$V1, tick=FALSE, las=2, line=-0.5, cex.axis=1)\n"
   ]
  },
  {
   "cell_type": "code",
   "execution_count": 8,
   "metadata": {},
   "outputs": [],
   "source": [
    "df_method <- read.csv(file = '/home/keyur/Desktop/KernelHeuristic/FinalFolder/RQ1/LogInBlock/out_2_filtered', header = FALSE, sep = \"|\")"
   ]
  },
  {
   "cell_type": "code",
   "execution_count": 9,
   "metadata": {},
   "outputs": [
    {
     "data": {
      "text/html": [
       "476522"
      ],
      "text/latex": [
       "476522"
      ],
      "text/markdown": [
       "476522"
      ],
      "text/plain": [
       "[1] 476522"
      ]
     },
     "metadata": {},
     "output_type": "display_data"
    },
    {
     "data": {
      "text/html": [
       "<table>\n",
       "<caption>A data.frame: 6 × 5</caption>\n",
       "<thead>\n",
       "\t<tr><th></th><th scope=col>V1</th><th scope=col>V2</th><th scope=col>V3</th><th scope=col>V4</th><th scope=col>V5</th></tr>\n",
       "\t<tr><th></th><th scope=col>&lt;chr&gt;</th><th scope=col>&lt;lgl&gt;</th><th scope=col>&lt;chr&gt;</th><th scope=col>&lt;lgl&gt;</th><th scope=col>&lt;int&gt;</th></tr>\n",
       "</thead>\n",
       "<tbody>\n",
       "\t<tr><th scope=row>1</th><td>/home/keyur/linux/block/bfq-iosched.c</td><td>NA</td><td>method</td><td>NA</td><td>0</td></tr>\n",
       "\t<tr><th scope=row>2</th><td>/home/keyur/linux/block/bfq-iosched.c</td><td>NA</td><td>method</td><td>NA</td><td>0</td></tr>\n",
       "\t<tr><th scope=row>3</th><td>/home/keyur/linux/block/bfq-iosched.c</td><td>NA</td><td>method</td><td>NA</td><td>0</td></tr>\n",
       "\t<tr><th scope=row>4</th><td>/home/keyur/linux/block/bfq-iosched.c</td><td>NA</td><td>method</td><td>NA</td><td>0</td></tr>\n",
       "\t<tr><th scope=row>5</th><td>/home/keyur/linux/block/bfq-iosched.c</td><td>NA</td><td>method</td><td>NA</td><td>0</td></tr>\n",
       "\t<tr><th scope=row>6</th><td>/home/keyur/linux/block/bfq-iosched.c</td><td>NA</td><td>method</td><td>NA</td><td>1</td></tr>\n",
       "</tbody>\n",
       "</table>\n"
      ],
      "text/latex": [
       "A data.frame: 6 × 5\n",
       "\\begin{tabular}{r|lllll}\n",
       "  & V1 & V2 & V3 & V4 & V5\\\\\n",
       "  & <chr> & <lgl> & <chr> & <lgl> & <int>\\\\\n",
       "\\hline\n",
       "\t1 & /home/keyur/linux/block/bfq-iosched.c & NA & method & NA & 0\\\\\n",
       "\t2 & /home/keyur/linux/block/bfq-iosched.c & NA & method & NA & 0\\\\\n",
       "\t3 & /home/keyur/linux/block/bfq-iosched.c & NA & method & NA & 0\\\\\n",
       "\t4 & /home/keyur/linux/block/bfq-iosched.c & NA & method & NA & 0\\\\\n",
       "\t5 & /home/keyur/linux/block/bfq-iosched.c & NA & method & NA & 0\\\\\n",
       "\t6 & /home/keyur/linux/block/bfq-iosched.c & NA & method & NA & 1\\\\\n",
       "\\end{tabular}\n"
      ],
      "text/markdown": [
       "\n",
       "A data.frame: 6 × 5\n",
       "\n",
       "| <!--/--> | V1 &lt;chr&gt; | V2 &lt;lgl&gt; | V3 &lt;chr&gt; | V4 &lt;lgl&gt; | V5 &lt;int&gt; |\n",
       "|---|---|---|---|---|---|\n",
       "| 1 | /home/keyur/linux/block/bfq-iosched.c | NA | method | NA | 0 |\n",
       "| 2 | /home/keyur/linux/block/bfq-iosched.c | NA | method | NA | 0 |\n",
       "| 3 | /home/keyur/linux/block/bfq-iosched.c | NA | method | NA | 0 |\n",
       "| 4 | /home/keyur/linux/block/bfq-iosched.c | NA | method | NA | 0 |\n",
       "| 5 | /home/keyur/linux/block/bfq-iosched.c | NA | method | NA | 0 |\n",
       "| 6 | /home/keyur/linux/block/bfq-iosched.c | NA | method | NA | 1 |\n",
       "\n"
      ],
      "text/plain": [
       "  V1                                    V2 V3     V4 V5\n",
       "1 /home/keyur/linux/block/bfq-iosched.c NA method NA 0 \n",
       "2 /home/keyur/linux/block/bfq-iosched.c NA method NA 0 \n",
       "3 /home/keyur/linux/block/bfq-iosched.c NA method NA 0 \n",
       "4 /home/keyur/linux/block/bfq-iosched.c NA method NA 0 \n",
       "5 /home/keyur/linux/block/bfq-iosched.c NA method NA 0 \n",
       "6 /home/keyur/linux/block/bfq-iosched.c NA method NA 1 "
      ]
     },
     "metadata": {},
     "output_type": "display_data"
    }
   ],
   "source": [
    "nrow(df_method)\n",
    "head(df_method)"
   ]
  },
  {
   "cell_type": "code",
   "execution_count": 10,
   "metadata": {},
   "outputs": [
    {
     "data": {
      "text/plain": [
       "      V1               V2               V3               V4         \n",
       " Length:476522      Mode:logical   Length:476522      Mode:logical  \n",
       " Class :character   NA's:476522    Class :character   NA's:476522   \n",
       " Mode  :character                  Mode  :character                 \n",
       "                                                                    \n",
       "                                                                    \n",
       "                                                                    \n",
       "       V5          \n",
       " Min.   :  0.0000  \n",
       " 1st Qu.:  0.0000  \n",
       " Median :  0.0000  \n",
       " Mean   :  0.6366  \n",
       " 3rd Qu.:  1.0000  \n",
       " Max.   :174.0000  "
      ]
     },
     "metadata": {},
     "output_type": "display_data"
    },
    {
     "name": "stdout",
     "output_type": "stream",
     "text": [
      "0 & 352045 & 73.88 \n",
      "1 & 64553 & 13.55 \n",
      "2 & 25823 & 5.42 \n",
      "3 & 12432 & 2.61 \n",
      "4 & 7075 & 1.48 \n",
      "5 & 4432 & 0.93 \n",
      "6 & 2752 & 0.58 \n",
      "7 & 1902 & 0.4 \n",
      "8 & 1282 & 0.27 \n",
      ">=9 & 4226 & 0.89 \n"
     ]
    },
    {
     "data": {
      "text/html": [
       "73.88"
      ],
      "text/latex": [
       "73.88"
      ],
      "text/markdown": [
       "73.88"
      ],
      "text/plain": [
       "[1] 73.88"
      ]
     },
     "metadata": {},
     "output_type": "display_data"
    },
    {
     "data": {
      "text/html": [
       "26.12"
      ],
      "text/latex": [
       "26.12"
      ],
      "text/markdown": [
       "26.12"
      ],
      "text/plain": [
       "[1] 26.12"
      ]
     },
     "metadata": {},
     "output_type": "display_data"
    },
    {
     "data": {
      "text/html": [
       "72.6"
      ],
      "text/latex": [
       "72.6"
      ],
      "text/markdown": [
       "72.6"
      ],
      "text/plain": [
       "[1] 72.6"
      ]
     },
     "metadata": {},
     "output_type": "display_data"
    }
   ],
   "source": [
    "summary(df_method)\n",
    "cat(\"0 &\", nrow(df_method[df_method$V5 == 0,]), \"&\",  round(nrow(df_method[df_method$V5 == 0,])/nrow(df_method)*100, 2), \"\\n\")\n",
    "cat(\"1 &\", nrow(df_method[df_method$V5 == 1,]), \"&\",  round(nrow(df_method[df_method$V5 == 1,])/nrow(df_method)*100, 2), \"\\n\")\n",
    "cat(\"2 &\", nrow(df_method[df_method$V5 == 2,]), \"&\",  round(nrow(df_method[df_method$V5 == 2,])/nrow(df_method)*100, 2), \"\\n\")\n",
    "cat(\"3 &\", nrow(df_method[df_method$V5 == 3,]),  \"&\", round(nrow(df_method[df_method$V5 == 3,])/nrow(df_method)*100, 2), \"\\n\")\n",
    "cat(\"4 &\", nrow(df_method[df_method$V5 == 4,]),  \"&\", round(nrow(df_method[df_method$V5 == 4,])/nrow(df_method)*100, 2), \"\\n\")\n",
    "cat(\"5 &\", nrow(df_method[df_method$V5 == 5,]),  \"&\", round(nrow(df_method[df_method$V5 == 5,])/nrow(df_method)*100, 2), \"\\n\")\n",
    "cat(\"6 &\", nrow(df_method[df_method$V5 == 6,]),  \"&\", round(nrow(df_method[df_method$V5 == 6,])/nrow(df_method)*100, 2), \"\\n\")\n",
    "cat(\"7 &\", nrow(df_method[df_method$V5 == 7,]),  \"&\", round(nrow(df_method[df_method$V5 == 7,])/nrow(df_method)*100, 2), \"\\n\")\n",
    "cat(\"8 &\", nrow(df_method[df_method$V5 == 8,]),  \"&\", round(nrow(df_method[df_method$V5 == 8,])/nrow(df_method)*100, 2), \"\\n\")\n",
    "cat(\">=9 &\", nrow(df_method[df_method$V5 >= 9,]), \"&\",  round(nrow(df_method[df_method$V5 >= 9,])/nrow(df_method)*100, 2), \"\\n\")\n",
    "\n",
    "round(nrow(df_method[df_method$V5 == 0,])/nrow(df_method)*100, 2)\n",
    "round(nrow(df_method[df_method$V5 >= 1,])/nrow(df_method)*100, 2)\n",
    "\n",
    "round(nrow(df_method[df_method$V5 >= 1 & df_method$V5 <= 2,])/nrow(df_method[df_method$V5 > 0,])*100, 2)"
   ]
  },
  {
   "cell_type": "code",
   "execution_count": 10,
   "metadata": {},
   "outputs": [],
   "source": [
    "d <- density(df_method$V5)"
   ]
  },
  {
   "cell_type": "code",
   "execution_count": 23,
   "metadata": {},
   "outputs": [
    {
     "data": {
      "image/png": "[encoded data removed]",
      "text/plain": [
       "Plot with title “Histogram of df_method$V5”"
      ]
     },
     "metadata": {
      "image/png": {
       "height": 420,
       "width": 420
      },
      "text/plain": {
       "height": 420,
       "width": 420
      }
     },
     "output_type": "display_data"
    }
   ],
   "source": [
    "hist(df_method$V5, breaks = c(0:4,5:max(df_method$V5)))"
   ]
  },
  {
   "cell_type": "code",
   "execution_count": 5,
   "metadata": {},
   "outputs": [],
   "source": [
    "\n",
    "\n"
   ]
  },
  {
   "cell_type": "code",
   "execution_count": 8,
   "metadata": {},
   "outputs": [
    {
     "data": {
      "text/plain": [
       "      V1                  V2               V3            density        \n",
       " Length:846         Min.   :  0.00   Min.   :   2.0   Min.   :0.000000  \n",
       " Class :character   1st Qu.:  0.00   1st Qu.:  94.5   1st Qu.:0.000000  \n",
       " Mode  :character   Median :  2.00   Median : 226.5   Median :0.007304  \n",
       "                    Mean   : 11.53   Mean   : 543.1   Mean   :0.023708  \n",
       "                    3rd Qu.: 10.00   3rd Qu.: 570.0   3rd Qu.:0.026430  \n",
       "                    Max.   :447.00   Max.   :7837.0   Max.   :0.473684  "
      ]
     },
     "metadata": {},
     "output_type": "display_data"
    },
    {
     "name": "stdout",
     "output_type": "stream",
     "text": [
      "Log density in range [0,0.1] -> 95.03546 \n",
      "File with 0 logging statement -> 324 \n",
      "File with 0 logging statement (%)-> 38.29787 \n",
      "File with >=1 logging statement (%) -> 61.70213 \n",
      "Log density in range (0,0.1] (%)-> 56.73759 \n",
      "Log density in > 0.1 -> (%) 4.964539 \n"
     ]
    }
   ],
   "source": [
    "\n",
    "core <- read.csv(file = '/home/keyur/Desktop/KernelHeuristic/FinalFolder/RQ1/LogDistribution/core', header = FALSE)\n",
    "core <- na.omit(core)\n",
    "core$density <- with(core, core$V2 / core$V3)\n",
    "summary(core)\n",
    "cat(\"Log density in range [0,0.1] ->\", nrow(core[core$density >= 0 & core$density <= 0.1,])/nrow(core)*100, \"\\n\")\n",
    "\n",
    "cat(\"File with 0 logging statement ->\", nrow(core[core$V2 == 0,]), \"\\n\")\n",
    "cat(\"File with 0 logging statement (%)->\", nrow(core[core$V2 == 0,])/nrow(core)*100, \"\\n\")\n",
    "\n",
    "cat(\"File with >=1 logging statement (%) ->\", nrow(core[core$V2 >= 1,])/nrow(core)*100, \"\\n\")\n",
    "\n",
    "cat(\"Log density in range (0,0.1] (%)->\", nrow(core[core$density > 0 & core$density <= 0.1,])/nrow(core)*100, \"\\n\")\n",
    "cat(\"Log density in > 0.1 -> (%)\", nrow(core[core$density > 0.1,])/nrow(core)*100, \"\\n\")"
   ]
  },
  {
   "cell_type": "code",
   "execution_count": 9,
   "metadata": {},
   "outputs": [
    {
     "data": {
      "text/plain": [
       "      V1                  V2               V3             density       \n",
       " Length:1217        Min.   :  0.00   Min.   :    2.0   Min.   :0.00000  \n",
       " Class :character   1st Qu.:  0.00   1st Qu.:  176.0   1st Qu.:0.00000  \n",
       " Mode  :character   Median :  7.00   Median :  377.0   Median :0.02083  \n",
       "                    Mean   : 29.42   Mean   :  690.7   Mean   :0.04040  \n",
       "                    3rd Qu.: 30.00   3rd Qu.:  743.0   3rd Qu.:0.05882  \n",
       "                    Max.   :540.00   Max.   :13383.0   Max.   :0.47090  "
      ]
     },
     "metadata": {},
     "output_type": "display_data"
    },
    {
     "name": "stdout",
     "output_type": "stream",
     "text": [
      "Log density in range [0,0.1] -> 88.4963 \n",
      "File with 0 logging statement -> 336 \n",
      "File with 0 logging statement (%)-> 27.60887 \n",
      "File with >=1 logging statement (%) -> 72.39113 \n",
      "Log density in range (0,0.1] (%)-> 60.88743 \n",
      "Log density in > 0.1 -> (%) 11.5037 \n"
     ]
    }
   ],
   "source": [
    "fs <- read.csv(file = '/home/keyur/Desktop/KernelHeuristic/FinalFolder/RQ1/LogDistribution/fs', header = FALSE)\n",
    "fs <- na.omit(fs)\n",
    "fs$density <- with(fs, fs$V2 / fs$V3)\n",
    "summary(fs)\n",
    "cat(\"Log density in range [0,0.1] ->\", nrow(fs[fs$density >= 0 & fs$density <= 0.1,])/nrow(fs)*100, \"\\n\")\n",
    "\n",
    "cat(\"File with 0 logging statement ->\", nrow(fs[fs$V2 == 0,]), \"\\n\")\n",
    "cat(\"File with 0 logging statement (%)->\", nrow(fs[fs$V2 == 0,])/nrow(fs)*100, \"\\n\")\n",
    "\n",
    "cat(\"File with >=1 logging statement (%) ->\", nrow(fs[fs$V2 >= 1,])/nrow(fs)*100, \"\\n\")\n",
    "\n",
    "cat(\"Log density in range (0,0.1] (%)->\", nrow(fs[fs$density > 0 & fs$density <= 0.1,])/nrow(fs)*100, \"\\n\")\n",
    "cat(\"Log density in > 0.1 -> (%)\", nrow(fs[fs$density > 0.1,])/nrow(fs)*100, \"\\n\")"
   ]
  },
  {
   "cell_type": "code",
   "execution_count": 10,
   "metadata": {},
   "outputs": [
    {
     "data": {
      "text/plain": [
       "      V1                  V2                V3             density        \n",
       " Length:17598       Min.   :   0.00   Min.   :    2.0   Min.   :0.000000  \n",
       " Class :character   1st Qu.:   1.00   1st Qu.:  147.0   1st Qu.:0.004124  \n",
       " Mode  :character   Median :   7.00   Median :  313.0   Median :0.023256  \n",
       "                    Mean   :  22.83   Mean   :  580.6   Mean   :0.033505  \n",
       "                    3rd Qu.:  23.00   3rd Qu.:  680.8   3rd Qu.:0.048387  \n",
       "                    Max.   :1359.00   Max.   :26295.0   Max.   :0.882682  "
      ]
     },
     "metadata": {},
     "output_type": "display_data"
    },
    {
     "name": "stdout",
     "output_type": "stream",
     "text": [
      "Log density in range [0,0.1] -> 94.47096 \n",
      "File with 0 logging statement -> 3890 \n",
      "File with 0 logging statement (%)-> 22.10478 \n",
      "File with >=1 logging statement (%) -> 77.89522 \n",
      "Log density in range (0,0.1] (%)-> 72.36618 \n",
      "Log density in > 0.1 -> (%) 5.529037 \n"
     ]
    }
   ],
   "source": [
    "drivers <- read.csv(file = '/home/keyur/Desktop/KernelHeuristic/FinalFolder/RQ1/LogDistribution/drivers', header = FALSE)\n",
    "drivers <- na.omit(drivers)\n",
    "drivers$density <- with(drivers, drivers$V2 / drivers$V3)\n",
    "summary(drivers)\n",
    "cat(\"Log density in range [0,0.1] ->\", nrow(drivers[drivers$density >= 0 & drivers$density <= 0.1,])/nrow(drivers)*100, \"\\n\")\n",
    "\n",
    "cat(\"File with 0 logging statement ->\", nrow(drivers[drivers$V2 == 0,]), \"\\n\")\n",
    "cat(\"File with 0 logging statement (%)->\", nrow(drivers[drivers$V2 == 0,])/nrow(drivers)*100, \"\\n\")\n",
    "\n",
    "cat(\"File with >=1 logging statement (%) ->\", nrow(drivers[drivers$V2 >= 1,])/nrow(drivers)*100, \"\\n\")\n",
    "\n",
    "cat(\"Log density in range (0,0.1] (%)->\", nrow(drivers[drivers$density > 0 & drivers$density <= 0.1,])/nrow(drivers)*100, \"\\n\")\n",
    "cat(\"Log density in > 0.1 -> (%)\", nrow(drivers[drivers$density > 0.1,])/nrow(drivers)*100, \"\\n\")"
   ]
  },
  {
   "cell_type": "code",
   "execution_count": 11,
   "metadata": {},
   "outputs": [
    {
     "data": {
      "text/plain": [
       "      V1                  V2               V3             density        \n",
       " Length:1360        Min.   :  0.00   Min.   :    2.0   Min.   :0.000000  \n",
       " Class :character   1st Qu.:  0.00   1st Qu.:  122.0   1st Qu.:0.000000  \n",
       " Mode  :character   Median :  2.00   Median :  257.0   Median :0.006221  \n",
       "                    Mean   : 10.66   Mean   :  547.4   Mean   :0.019653  \n",
       "                    3rd Qu.: 10.00   3rd Qu.:  635.5   3rd Qu.:0.028372  \n",
       "                    Max.   :375.00   Max.   :13520.0   Max.   :0.303571  "
      ]
     },
     "metadata": {},
     "output_type": "display_data"
    },
    {
     "name": "stdout",
     "output_type": "stream",
     "text": [
      "Log density in range [0,0.1] -> 97.20588 \n",
      "File with 0 logging statement -> 490 \n",
      "File with 0 logging statement (%)-> 36.02941 \n",
      "File with >=1 logging statement (%) -> 63.97059 \n",
      "Log density in range (0,0.1] (%)-> 61.17647 \n",
      "Log density in > 0.1 -> (%) 2.794118 \n"
     ]
    }
   ],
   "source": [
    "net <- read.csv(file = '/home/keyur/Desktop/KernelHeuristic/FinalFolder/RQ1/LogDistribution/net', header = FALSE)\n",
    "net <- na.omit(net)\n",
    "net$density <- with(net, net$V2 / net$V3)\n",
    "summary(net)\n",
    "cat(\"Log density in range [0,0.1] ->\", nrow(net[net$density >= 0 & net$density <= 0.1,])/nrow(net)*100, \"\\n\")\n",
    "\n",
    "cat(\"File with 0 logging statement ->\", nrow(net[net$V2 == 0,]), \"\\n\")\n",
    "cat(\"File with 0 logging statement (%)->\", nrow(net[net$V2 == 0,])/nrow(net)*100, \"\\n\")\n",
    "\n",
    "cat(\"File with >=1 logging statement (%) ->\", nrow(net[net$V2 >= 1,])/nrow(net)*100, \"\\n\")\n",
    "\n",
    "cat(\"Log density in range (0,0.1] (%)->\", nrow(net[net$density > 0 & net$density <= 0.1,])/nrow(net)*100, \"\\n\")\n",
    "cat(\"Log density in > 0.1 -> (%)\", nrow(net[net$density > 0.1,])/nrow(net)*100, \"\\n\")"
   ]
  },
  {
   "cell_type": "code",
   "execution_count": 12,
   "metadata": {},
   "outputs": [
    {
     "data": {
      "text/plain": [
       "      V1                  V2                V3            density        \n",
       " Length:4794        Min.   :  0.000   Min.   :   0.0   Min.   :0.000000  \n",
       " Class :character   1st Qu.:  0.000   1st Qu.:  52.0   1st Qu.:0.000000  \n",
       " Mode  :character   Median :  1.000   Median : 119.0   Median :0.007828  \n",
       "                    Mean   :  6.879   Mean   : 230.8   Mean   :0.025845  \n",
       "                    3rd Qu.:  6.000   3rd Qu.: 263.0   3rd Qu.:0.036364  \n",
       "                    Max.   :405.000   Max.   :7513.0   Max.   :0.685714  \n",
       "                                                       NA's   :1         "
      ]
     },
     "metadata": {},
     "output_type": "display_data"
    },
    {
     "name": "stdout",
     "output_type": "stream",
     "text": [
      "Log density in range [0,0.1] -> 94.38882 \n",
      "File with 0 logging statement -> 2095 \n",
      "File with 0 logging statement (%)-> 43.70046 \n",
      "File with >=1 logging statement (%) -> 56.29954 \n",
      "Log density in range (0,0.1] (%)-> 50.70922 \n",
      "Log density in > 0.1 -> (%) 5.63204 \n"
     ]
    }
   ],
   "source": [
    "arch <- read.csv(file = '/home/keyur/Desktop/KernelHeuristic/FinalFolder/RQ1/LogDistribution/arch', header = FALSE)\n",
    "arch <- na.omit(arch)\n",
    "arch$density <- with(arch, arch$V2 / arch$V3)\n",
    "summary(arch)\n",
    "cat(\"Log density in range [0,0.1] ->\", nrow(arch[arch$density >= 0 & arch$density <= 0.1,])/nrow(arch)*100, \"\\n\")\n",
    "\n",
    "cat(\"File with 0 logging statement ->\", nrow(arch[arch$V2 == 0,]), \"\\n\")\n",
    "cat(\"File with 0 logging statement (%)->\", nrow(arch[arch$V2 == 0,])/nrow(arch)*100, \"\\n\")\n",
    "\n",
    "cat(\"File with >=1 logging statement (%) ->\", nrow(arch[arch$V2 >= 1,])/nrow(arch)*100, \"\\n\")\n",
    "\n",
    "cat(\"Log density in range (0,0.1] (%)->\", nrow(arch[arch$density > 0 & arch$density <= 0.1,])/nrow(arch)*100, \"\\n\")\n",
    "cat(\"Log density in > 0.1 -> (%)\", nrow(arch[arch$density > 0.1,])/nrow(arch)*100, \"\\n\")"
   ]
  },
  {
   "cell_type": "code",
   "execution_count": null,
   "metadata": {},
   "outputs": [],
   "source": []
  },
  {
   "cell_type": "code",
   "execution_count": null,
   "metadata": {},
   "outputs": [],
   "source": []
  },
  {
   "cell_type": "code",
   "execution_count": null,
   "metadata": {},
   "outputs": [],
   "source": []
  },
  {
   "cell_type": "code",
   "execution_count": null,
   "metadata": {},
   "outputs": [],
   "source": []
  }
 ],
 "metadata": {
  "kernelspec": {
   "display_name": "R",
   "language": "R",
   "name": "ir"
  },
  "language_info": {
   "codemirror_mode": "r",
   "file_extension": ".r",
   "mimetype": "text/x-r-source",
   "name": "R",
   "pygments_lexer": "r",
   "version": "4.0.3"
  }
 },
 "nbformat": 4,
 "nbformat_minor": 4
}
